{
  "cells": [
    {
      "cell_type": "markdown",
      "metadata": {
        "id": "l1LdICTd77Lu"
      },
      "source": [
        "Alzheimer's detection from MRI imaging - Multimodal models & experiments\n",
        "\n"
      ]
    },
    {
      "cell_type": "markdown",
      "metadata": {
        "id": "oZgWPhRdP4qD"
      },
      "source": [
        "# Packages"
      ]
    },
    {
      "cell_type": "code",
      "execution_count": 1,
      "metadata": {
        "colab": {
          "base_uri": "https://localhost:8080/"
        },
        "id": "Z1jBjb8HPmFU",
        "outputId": "cdc0d970-2bfc-433b-9c6e-79c1239cef50"
      },
      "outputs": [
        {
          "output_type": "stream",
          "name": "stdout",
          "text": [
            "Drive already mounted at /content/drive/; to attempt to forcibly remount, call drive.mount(\"/content/drive/\", force_remount=True).\n"
          ]
        }
      ],
      "source": [
        "from google.colab import drive\n",
        "drive.mount('/content/drive/')\n",
        "from google.colab import auth\n",
        "auth.authenticate_user()\n",
        "user = !gcloud config get-value account\n",
        "\n",
        "\n",
        "import numpy as np\n",
        "import pickle\n",
        "import pandas as pd\n",
        "import matplotlib.pyplot as plt\n",
        "import seaborn as sns\n",
        "import nibabel as nib\n",
        "import os\n",
        "import skimage\n",
        "from skimage.util import montage\n",
        "from collections import defaultdict\n",
        "import math\n",
        "import random\n",
        "import gc\n",
        "import tensorflow as tf\n",
        "import dask.array as da\n",
        "from tensorflow.keras.layers import Dense, Conv1D, Conv2D, Dropout, Input, Flatten, MaxPooling1D, MaxPooling2D, Softmax, concatenate\n",
        "from tensorflow.keras.initializers import HeNormal\n",
        "from tensorflow.keras import Sequential, Model\n",
        "from tensorflow.keras.utils import plot_model"
      ]
    },
    {
      "cell_type": "markdown",
      "metadata": {
        "id": "FNENUJCTv49d"
      },
      "source": [
        "## Data\n",
        "\n",
        "- Demographics table\n",
        "\n",
        "- MRI images"
      ]
    },
    {
      "cell_type": "code",
      "execution_count": null,
      "metadata": {
        "id": "VN5HkLhDv4Sf"
      },
      "outputs": [],
      "source": [
        "if user[0] == 'nickriina@gmail.com':\n",
        "  demographics = pd.read_excel('/content/drive/MyDrive/Final Project Data/oasis_longitudinal_demographics.xlsx')\n",
        "else:\n",
        "  demographics = pd.read_excel('/content/drive/MyDrive/E533/final-project-data/oasis_longitudinal_demographics.xlsx')"
      ]
    },
    {
      "cell_type": "code",
      "source": [
        "demographics = pd.read_excel('/content/drive/MyDrive/E533/final-project-data/oasis_longitudinal_demographics.xlsx')"
      ],
      "metadata": {
        "id": "ZFlYsfujqtgT"
      },
      "execution_count": 14,
      "outputs": []
    },
    {
      "cell_type": "markdown",
      "metadata": {
        "id": "-xNdC7SoNtiQ"
      },
      "source": [
        "### Checking assumptions"
      ]
    },
    {
      "cell_type": "markdown",
      "metadata": {
        "id": "nlbhLRxE60AT"
      },
      "source": [
        "For this code chunk below I take the demographic table, group by the patient and then count the number of unique MRIs and incidences of the group/CDR designation"
      ]
    },
    {
      "cell_type": "code",
      "execution_count": 14,
      "metadata": {
        "colab": {
          "base_uri": "https://localhost:8080/",
          "height": 424
        },
        "id": "7vV-4JoM7SI_",
        "outputId": "7247e781-493f-4d68-bb5b-091b15e0bc38"
      },
      "outputs": [
        {
          "output_type": "execute_result",
          "data": {
            "text/plain": [
              "    Subject ID  CDR  MRI ID\n",
              "3    OAS2_0005  0.0       2\n",
              "4    OAS2_0005  0.5       1\n",
              "5    OAS2_0007  0.5       1\n",
              "6    OAS2_0007  1.0       2\n",
              "12   OAS2_0014  0.5       1\n",
              "..         ...  ...     ...\n",
              "172  OAS2_0176  0.5       1\n",
              "176  OAS2_0181  0.5       1\n",
              "177  OAS2_0181  1.0       2\n",
              "180  OAS2_0184  0.5       1\n",
              "181  OAS2_0184  1.0       1\n",
              "\n",
              "[68 rows x 3 columns]"
            ],
            "text/html": [
              "\n",
              "  <div id=\"df-583235e8-84df-47c0-afd0-692532706b34\">\n",
              "    <div class=\"colab-df-container\">\n",
              "      <div>\n",
              "<style scoped>\n",
              "    .dataframe tbody tr th:only-of-type {\n",
              "        vertical-align: middle;\n",
              "    }\n",
              "\n",
              "    .dataframe tbody tr th {\n",
              "        vertical-align: top;\n",
              "    }\n",
              "\n",
              "    .dataframe thead th {\n",
              "        text-align: right;\n",
              "    }\n",
              "</style>\n",
              "<table border=\"1\" class=\"dataframe\">\n",
              "  <thead>\n",
              "    <tr style=\"text-align: right;\">\n",
              "      <th></th>\n",
              "      <th>Subject ID</th>\n",
              "      <th>CDR</th>\n",
              "      <th>MRI ID</th>\n",
              "    </tr>\n",
              "  </thead>\n",
              "  <tbody>\n",
              "    <tr>\n",
              "      <th>3</th>\n",
              "      <td>OAS2_0005</td>\n",
              "      <td>0.0</td>\n",
              "      <td>2</td>\n",
              "    </tr>\n",
              "    <tr>\n",
              "      <th>4</th>\n",
              "      <td>OAS2_0005</td>\n",
              "      <td>0.5</td>\n",
              "      <td>1</td>\n",
              "    </tr>\n",
              "    <tr>\n",
              "      <th>5</th>\n",
              "      <td>OAS2_0007</td>\n",
              "      <td>0.5</td>\n",
              "      <td>1</td>\n",
              "    </tr>\n",
              "    <tr>\n",
              "      <th>6</th>\n",
              "      <td>OAS2_0007</td>\n",
              "      <td>1.0</td>\n",
              "      <td>2</td>\n",
              "    </tr>\n",
              "    <tr>\n",
              "      <th>12</th>\n",
              "      <td>OAS2_0014</td>\n",
              "      <td>0.5</td>\n",
              "      <td>1</td>\n",
              "    </tr>\n",
              "    <tr>\n",
              "      <th>...</th>\n",
              "      <td>...</td>\n",
              "      <td>...</td>\n",
              "      <td>...</td>\n",
              "    </tr>\n",
              "    <tr>\n",
              "      <th>172</th>\n",
              "      <td>OAS2_0176</td>\n",
              "      <td>0.5</td>\n",
              "      <td>1</td>\n",
              "    </tr>\n",
              "    <tr>\n",
              "      <th>176</th>\n",
              "      <td>OAS2_0181</td>\n",
              "      <td>0.5</td>\n",
              "      <td>1</td>\n",
              "    </tr>\n",
              "    <tr>\n",
              "      <th>177</th>\n",
              "      <td>OAS2_0181</td>\n",
              "      <td>1.0</td>\n",
              "      <td>2</td>\n",
              "    </tr>\n",
              "    <tr>\n",
              "      <th>180</th>\n",
              "      <td>OAS2_0184</td>\n",
              "      <td>0.5</td>\n",
              "      <td>1</td>\n",
              "    </tr>\n",
              "    <tr>\n",
              "      <th>181</th>\n",
              "      <td>OAS2_0184</td>\n",
              "      <td>1.0</td>\n",
              "      <td>1</td>\n",
              "    </tr>\n",
              "  </tbody>\n",
              "</table>\n",
              "<p>68 rows × 3 columns</p>\n",
              "</div>\n",
              "      <button class=\"colab-df-convert\" onclick=\"convertToInteractive('df-583235e8-84df-47c0-afd0-692532706b34')\"\n",
              "              title=\"Convert this dataframe to an interactive table.\"\n",
              "              style=\"display:none;\">\n",
              "        \n",
              "  <svg xmlns=\"http://www.w3.org/2000/svg\" height=\"24px\"viewBox=\"0 0 24 24\"\n",
              "       width=\"24px\">\n",
              "    <path d=\"M0 0h24v24H0V0z\" fill=\"none\"/>\n",
              "    <path d=\"M18.56 5.44l.94 2.06.94-2.06 2.06-.94-2.06-.94-.94-2.06-.94 2.06-2.06.94zm-11 1L8.5 8.5l.94-2.06 2.06-.94-2.06-.94L8.5 2.5l-.94 2.06-2.06.94zm10 10l.94 2.06.94-2.06 2.06-.94-2.06-.94-.94-2.06-.94 2.06-2.06.94z\"/><path d=\"M17.41 7.96l-1.37-1.37c-.4-.4-.92-.59-1.43-.59-.52 0-1.04.2-1.43.59L10.3 9.45l-7.72 7.72c-.78.78-.78 2.05 0 2.83L4 21.41c.39.39.9.59 1.41.59.51 0 1.02-.2 1.41-.59l7.78-7.78 2.81-2.81c.8-.78.8-2.07 0-2.86zM5.41 20L4 18.59l7.72-7.72 1.47 1.35L5.41 20z\"/>\n",
              "  </svg>\n",
              "      </button>\n",
              "      \n",
              "  <style>\n",
              "    .colab-df-container {\n",
              "      display:flex;\n",
              "      flex-wrap:wrap;\n",
              "      gap: 12px;\n",
              "    }\n",
              "\n",
              "    .colab-df-convert {\n",
              "      background-color: #E8F0FE;\n",
              "      border: none;\n",
              "      border-radius: 50%;\n",
              "      cursor: pointer;\n",
              "      display: none;\n",
              "      fill: #1967D2;\n",
              "      height: 32px;\n",
              "      padding: 0 0 0 0;\n",
              "      width: 32px;\n",
              "    }\n",
              "\n",
              "    .colab-df-convert:hover {\n",
              "      background-color: #E2EBFA;\n",
              "      box-shadow: 0px 1px 2px rgba(60, 64, 67, 0.3), 0px 1px 3px 1px rgba(60, 64, 67, 0.15);\n",
              "      fill: #174EA6;\n",
              "    }\n",
              "\n",
              "    [theme=dark] .colab-df-convert {\n",
              "      background-color: #3B4455;\n",
              "      fill: #D2E3FC;\n",
              "    }\n",
              "\n",
              "    [theme=dark] .colab-df-convert:hover {\n",
              "      background-color: #434B5C;\n",
              "      box-shadow: 0px 1px 3px 1px rgba(0, 0, 0, 0.15);\n",
              "      filter: drop-shadow(0px 1px 2px rgba(0, 0, 0, 0.3));\n",
              "      fill: #FFFFFF;\n",
              "    }\n",
              "  </style>\n",
              "\n",
              "      <script>\n",
              "        const buttonEl =\n",
              "          document.querySelector('#df-583235e8-84df-47c0-afd0-692532706b34 button.colab-df-convert');\n",
              "        buttonEl.style.display =\n",
              "          google.colab.kernel.accessAllowed ? 'block' : 'none';\n",
              "\n",
              "        async function convertToInteractive(key) {\n",
              "          const element = document.querySelector('#df-583235e8-84df-47c0-afd0-692532706b34');\n",
              "          const dataTable =\n",
              "            await google.colab.kernel.invokeFunction('convertToInteractive',\n",
              "                                                     [key], {});\n",
              "          if (!dataTable) return;\n",
              "\n",
              "          const docLinkHtml = 'Like what you see? Visit the ' +\n",
              "            '<a target=\"_blank\" href=https://colab.research.google.com/notebooks/data_table.ipynb>data table notebook</a>'\n",
              "            + ' to learn more about interactive tables.';\n",
              "          element.innerHTML = '';\n",
              "          dataTable['output_type'] = 'display_data';\n",
              "          await google.colab.output.renderOutput(dataTable, element);\n",
              "          const docLink = document.createElement('div');\n",
              "          docLink.innerHTML = docLinkHtml;\n",
              "          element.appendChild(docLink);\n",
              "        }\n",
              "      </script>\n",
              "    </div>\n",
              "  </div>\n",
              "  "
            ]
          },
          "metadata": {},
          "execution_count": 14
        }
      ],
      "source": [
        "# CDR isn't consistent across patients\n",
        "demographics.groupby(\n",
        "    ['Subject ID', 'CDR'])[['MRI ID']].agg('count').reset_index().groupby('Subject ID').filter(lambda x: len(x) != 1)"
      ]
    },
    {
      "cell_type": "code",
      "execution_count": 4,
      "metadata": {
        "colab": {
          "base_uri": "https://localhost:8080/",
          "height": 49
        },
        "id": "tL0UAKNZ9Gob",
        "outputId": "ee16b63e-9579-49b4-d3c1-135b430e2d79"
      },
      "outputs": [
        {
          "output_type": "execute_result",
          "data": {
            "text/plain": [
              "Empty DataFrame\n",
              "Columns: [Subject ID, Group, MRI ID]\n",
              "Index: []"
            ],
            "text/html": [
              "\n",
              "  <div id=\"df-0ad77bf4-5c5e-4713-8d27-fb59b2f2c2ec\">\n",
              "    <div class=\"colab-df-container\">\n",
              "      <div>\n",
              "<style scoped>\n",
              "    .dataframe tbody tr th:only-of-type {\n",
              "        vertical-align: middle;\n",
              "    }\n",
              "\n",
              "    .dataframe tbody tr th {\n",
              "        vertical-align: top;\n",
              "    }\n",
              "\n",
              "    .dataframe thead th {\n",
              "        text-align: right;\n",
              "    }\n",
              "</style>\n",
              "<table border=\"1\" class=\"dataframe\">\n",
              "  <thead>\n",
              "    <tr style=\"text-align: right;\">\n",
              "      <th></th>\n",
              "      <th>Subject ID</th>\n",
              "      <th>Group</th>\n",
              "      <th>MRI ID</th>\n",
              "    </tr>\n",
              "  </thead>\n",
              "  <tbody>\n",
              "  </tbody>\n",
              "</table>\n",
              "</div>\n",
              "      <button class=\"colab-df-convert\" onclick=\"convertToInteractive('df-0ad77bf4-5c5e-4713-8d27-fb59b2f2c2ec')\"\n",
              "              title=\"Convert this dataframe to an interactive table.\"\n",
              "              style=\"display:none;\">\n",
              "        \n",
              "  <svg xmlns=\"http://www.w3.org/2000/svg\" height=\"24px\"viewBox=\"0 0 24 24\"\n",
              "       width=\"24px\">\n",
              "    <path d=\"M0 0h24v24H0V0z\" fill=\"none\"/>\n",
              "    <path d=\"M18.56 5.44l.94 2.06.94-2.06 2.06-.94-2.06-.94-.94-2.06-.94 2.06-2.06.94zm-11 1L8.5 8.5l.94-2.06 2.06-.94-2.06-.94L8.5 2.5l-.94 2.06-2.06.94zm10 10l.94 2.06.94-2.06 2.06-.94-2.06-.94-.94-2.06-.94 2.06-2.06.94z\"/><path d=\"M17.41 7.96l-1.37-1.37c-.4-.4-.92-.59-1.43-.59-.52 0-1.04.2-1.43.59L10.3 9.45l-7.72 7.72c-.78.78-.78 2.05 0 2.83L4 21.41c.39.39.9.59 1.41.59.51 0 1.02-.2 1.41-.59l7.78-7.78 2.81-2.81c.8-.78.8-2.07 0-2.86zM5.41 20L4 18.59l7.72-7.72 1.47 1.35L5.41 20z\"/>\n",
              "  </svg>\n",
              "      </button>\n",
              "      \n",
              "  <style>\n",
              "    .colab-df-container {\n",
              "      display:flex;\n",
              "      flex-wrap:wrap;\n",
              "      gap: 12px;\n",
              "    }\n",
              "\n",
              "    .colab-df-convert {\n",
              "      background-color: #E8F0FE;\n",
              "      border: none;\n",
              "      border-radius: 50%;\n",
              "      cursor: pointer;\n",
              "      display: none;\n",
              "      fill: #1967D2;\n",
              "      height: 32px;\n",
              "      padding: 0 0 0 0;\n",
              "      width: 32px;\n",
              "    }\n",
              "\n",
              "    .colab-df-convert:hover {\n",
              "      background-color: #E2EBFA;\n",
              "      box-shadow: 0px 1px 2px rgba(60, 64, 67, 0.3), 0px 1px 3px 1px rgba(60, 64, 67, 0.15);\n",
              "      fill: #174EA6;\n",
              "    }\n",
              "\n",
              "    [theme=dark] .colab-df-convert {\n",
              "      background-color: #3B4455;\n",
              "      fill: #D2E3FC;\n",
              "    }\n",
              "\n",
              "    [theme=dark] .colab-df-convert:hover {\n",
              "      background-color: #434B5C;\n",
              "      box-shadow: 0px 1px 3px 1px rgba(0, 0, 0, 0.15);\n",
              "      filter: drop-shadow(0px 1px 2px rgba(0, 0, 0, 0.3));\n",
              "      fill: #FFFFFF;\n",
              "    }\n",
              "  </style>\n",
              "\n",
              "      <script>\n",
              "        const buttonEl =\n",
              "          document.querySelector('#df-0ad77bf4-5c5e-4713-8d27-fb59b2f2c2ec button.colab-df-convert');\n",
              "        buttonEl.style.display =\n",
              "          google.colab.kernel.accessAllowed ? 'block' : 'none';\n",
              "\n",
              "        async function convertToInteractive(key) {\n",
              "          const element = document.querySelector('#df-0ad77bf4-5c5e-4713-8d27-fb59b2f2c2ec');\n",
              "          const dataTable =\n",
              "            await google.colab.kernel.invokeFunction('convertToInteractive',\n",
              "                                                     [key], {});\n",
              "          if (!dataTable) return;\n",
              "\n",
              "          const docLinkHtml = 'Like what you see? Visit the ' +\n",
              "            '<a target=\"_blank\" href=https://colab.research.google.com/notebooks/data_table.ipynb>data table notebook</a>'\n",
              "            + ' to learn more about interactive tables.';\n",
              "          element.innerHTML = '';\n",
              "          dataTable['output_type'] = 'display_data';\n",
              "          await google.colab.output.renderOutput(dataTable, element);\n",
              "          const docLink = document.createElement('div');\n",
              "          docLink.innerHTML = docLinkHtml;\n",
              "          element.appendChild(docLink);\n",
              "        }\n",
              "      </script>\n",
              "    </div>\n",
              "  </div>\n",
              "  "
            ]
          },
          "metadata": {},
          "execution_count": 4
        }
      ],
      "source": [
        "# Group is consistent across patients\n",
        "demographics.groupby(\n",
        "    ['Subject ID', 'Group'])[['MRI ID']].agg('count').reset_index().groupby('Subject ID').filter(lambda x: len(x) != 1)"
      ]
    },
    {
      "cell_type": "markdown",
      "metadata": {
        "id": "81qI-Dm5NxAY"
      },
      "source": [
        "## Split"
      ]
    },
    {
      "cell_type": "code",
      "execution_count": 15,
      "metadata": {
        "id": "oxpVMldvNzfe"
      },
      "outputs": [],
      "source": [
        "# get patients and MRIs that we're using for training/validation (i.e. not converted patients)\n",
        "dem = demographics[demographics.Group != 'Converted'][['co','MRI ID']].groupby(['co']).agg(list).reset_index()\n",
        "pt_dict = dict(zip(dem['co'], dem['MRI ID']))"
      ]
    },
    {
      "cell_type": "code",
      "execution_count": 16,
      "metadata": {
        "id": "Vq59L8CUmsKB"
      },
      "outputs": [],
      "source": [
        "# get patients and MRIs that are part of the converted group\n",
        "conv = demographics[demographics.Group == 'Converted'].groupby(['co']).agg(list).reset_index()\n",
        "conv_dict = dict(zip(conv['co'], conv['MRI ID']))"
      ]
    },
    {
      "cell_type": "code",
      "execution_count": 7,
      "metadata": {
        "colab": {
          "base_uri": "https://localhost:8080/"
        },
        "id": "5YuQaD4bgv_E",
        "outputId": "f61789d7-885c-4c6a-93ed-53207296065b"
      },
      "outputs": [
        {
          "output_type": "execute_result",
          "data": {
            "text/plain": [
              "['OAS2_0001_MR1', 'OAS2_0001_MR2']"
            ]
          },
          "metadata": {},
          "execution_count": 7
        }
      ],
      "source": [
        "# pt_dict.keys()\n",
        "pt_dict['OAS2_0001']"
      ]
    },
    {
      "cell_type": "code",
      "execution_count": 17,
      "metadata": {
        "id": "-FjCoL7xM2Ul"
      },
      "outputs": [],
      "source": [
        "def split_mris(patients_dict, train_prop = 0.9):\n",
        "  random.seed(123)\n",
        "  pts_list = list(patients_dict.keys())\n",
        "  n_pts = len(pts_list)\n",
        "  n_pts_train = math.floor(n_pts * train_prop)\n",
        "  pts_train = random.sample(pts_list, n_pts_train)\n",
        "  train_mris = [i for x in pts_train for i in patients_dict[x]]\n",
        "  test_mris = [i for x in pts_list for i in patients_dict[x] if x not in pts_train]\n",
        "  return train_mris, test_mris"
      ]
    },
    {
      "cell_type": "code",
      "execution_count": 20,
      "metadata": {
        "id": "sMeTN22PwIfc"
      },
      "outputs": [],
      "source": [
        "def make_split_dict(keys = ['images','group','cdr','MR_Delay','M/F','Hand','Age','EDUC','SES','MMSE','nWBV','ASF']):\n",
        "  d = {}\n",
        "  for k in keys:\n",
        "    d[k] = []\n",
        "  return d"
      ]
    },
    {
      "cell_type": "code",
      "execution_count": 21,
      "metadata": {
        "id": "_2JYVzcznFw1"
      },
      "outputs": [],
      "source": [
        "def load_imgs(mri, out_dict, user_name = user[0]):\n",
        "  if user_name == 'LELee2000@gmail.com':\n",
        "    base = '/content/drive/MyDrive/E533/final-project-data/MRI_Data/' \n",
        "  else:\n",
        "    base = '/content/drive/MyDrive/Final Project Data/MRI_Data/'\n",
        "  dir = base + mri + '/RAW'\n",
        "  info = demographics[demographics['MRI ID'] == mri]\n",
        "  dem_non = lambda x: 0 if x == 'Nondemented' else 1\n",
        "  g = info.Group.item()\n",
        "  g = dem_non(g)\n",
        "  cdr = info.CDR.item()\n",
        "  mrdel = info['MR Delay'].item()\n",
        "  gender = info['M/F'].item()\n",
        "  code_malefem = lambda x: 0 if x == 'F' else 1\n",
        "  gender = code_malefem(gender)\n",
        "  hand = info['Hand'].item()\n",
        "  code_rightleft = lambda x: 0 if x == 'L' else 1\n",
        "  hand = code_rightleft(hand)\n",
        "  age = info['Age'].item()\n",
        "  educ = info['EDUC'].item()\n",
        "  ses = info['SES'].item()\n",
        "  mmse = info['MMSE'].item()\n",
        "  nwbv = info['nWBV'].item()\n",
        "  asf = info['ASF'].item()\n",
        "  \n",
        "  for img in os.listdir(dir):\n",
        "    try:\n",
        "      if img.endswith('.img'):\n",
        "        f = dir + '/' + img\n",
        "        img = nib.load(f)\n",
        "        o = img.dataobj\n",
        "        o = np.asarray(o)\n",
        "        # o = tf.squeeze(o)\n",
        "        # i = a.reshape(128,256,256)\n",
        "        out_dict['images'].append(o)\n",
        "        img.uncache()\n",
        "        out_dict['group'].append(g)\n",
        "        out_dict['cdr'].append(cdr)\n",
        "        out_dict['MR_Delay'].append(mrdel)\n",
        "        out_dict['M/F'].append(gender)\n",
        "        out_dict['Hand'].append(hand)\n",
        "        out_dict['Age'].append(age)\n",
        "        out_dict['EDUC'].append(educ)\n",
        "        out_dict['SES'].append(ses)\n",
        "        out_dict['MMSE'].append(mmse)\n",
        "        out_dict['nWBV'].append(nwbv)\n",
        "        out_dict['ASF'].append(asf)\n",
        "          \n",
        "\n",
        "    except FileNotFoundError:\n",
        "      pass"
      ]
    },
    {
      "cell_type": "code",
      "source": [
        "def split_imgs_dem(data):\n",
        "  dem_info = [np.array([data[x][i] for x in data.keys() if x != 'group' and x != 'cdr' and x!= 'images' and x!= 'Hand']) for i in range(len(data['images']))]\n",
        "  images = [data['images'][i] for i in range(len(data['images']))]\n",
        "  group_info = [data['group'][i] for i in range(len(data['images']))]\n",
        "  return images, dem_info, group_info"
      ],
      "metadata": {
        "id": "Q7vBQ6LioAvQ"
      },
      "execution_count": 23,
      "outputs": []
    },
    {
      "cell_type": "code",
      "execution_count": 9,
      "metadata": {
        "id": "j36drpB9QaFX"
      },
      "outputs": [],
      "source": [
        "def split_patients(pt_dict = pt_dict, train_prop = .9, user_name = user[0]):\n",
        "  if user_name == 'LELee2000@gmail.com':\n",
        "    base = '/content/drive/MyDrive/E533/final-project-data/MRI_Data/' \n",
        "  else:\n",
        "    base = '/content/drive/MyDrive/Final Project Data/MRI_Data/'\n",
        "  # + mri_id + '/RAW'\n",
        "  tr_mri, te_mri = split_mris(pt_dict, train_prop = train_prop)\n",
        "  train = make_split_dict()\n",
        "  test = make_split_dict()\n",
        "\n",
        "  for mri in tr_mri:\n",
        "    load_imgs(mri, train)\n",
        "\n",
        "\n",
        "  for mri in te_mri:\n",
        "    load_imgs(mri, test)\n",
        "\n",
        "\n",
        "  return train, test"
      ]
    },
    {
      "cell_type": "code",
      "execution_count": null,
      "metadata": {
        "id": "cjHsh8pfSBNy"
      },
      "outputs": [],
      "source": [
        "tr, te = split_patients(train_prop = 0.9)"
      ]
    },
    {
      "cell_type": "code",
      "execution_count": null,
      "metadata": {
        "id": "RwIOOCmWvOts"
      },
      "outputs": [],
      "source": [
        "train_x1, train_x2, train_y = split_imgs_dem(tr)\n",
        "test_x1, test_x2, test_y = split_imgs_dem(te)"
      ]
    },
    {
      "cell_type": "code",
      "source": [
        "train_x2 = np.array(train_x2)\n",
        "train_y = np.array(train_y)\n",
        "test_x2 = np.array(test_x2)\n",
        "test_y = np.array(test_y)\n",
        "train_x1 = np.asarray(train_x1)\n",
        "test_x1 = np.asarray(test_x1)"
      ],
      "metadata": {
        "id": "hkZ2MuVTsqvd"
      },
      "execution_count": null,
      "outputs": []
    },
    {
      "cell_type": "code",
      "source": [
        "converted = make_split_dict()\n",
        "cmri_x, cmri = split_mris(conv_dict, 0.2)\n",
        "for mri in cmri:\n",
        "    load_imgs(mri, converted)\n",
        "\n",
        "c_x1, c_x2, c_y = split_imgs_dem(converted)\n",
        "c_x1 = np.array(c_x1)\n",
        "c_x2 = np.array(c_x2)\n",
        "c_y = np.ones(c_y.shape)"
      ],
      "metadata": {
        "id": "KMsPADdozx8D"
      },
      "execution_count": 34,
      "outputs": []
    },
    {
      "cell_type": "markdown",
      "source": [
        "### Images"
      ],
      "metadata": {
        "id": "1PPw8VeAJ270"
      }
    },
    {
      "cell_type": "code",
      "execution_count": 16,
      "metadata": {
        "id": "uAI8oQsSmAjW"
      },
      "outputs": [],
      "source": [
        "def reshape_nib(img):\n",
        "  reshaped = [img[:,:,i] for i in range(128)]\n",
        "  squeezed = tf.squeeze(reshaped)\n",
        "  return squeezed"
      ]
    },
    {
      "cell_type": "code",
      "execution_count": null,
      "metadata": {
        "id": "d7ESqiQLmOvL"
      },
      "outputs": [],
      "source": [
        "plt.figure(figsize=(15,15))\n",
        "img = reshape_nib(tr['images'][0])\n",
        "plt.imshow(montage(img))\n",
        "plt.title('MRI Example')\n",
        "plt.xticks([])\n",
        "plt.yticks([])"
      ]
    },
    {
      "cell_type": "markdown",
      "metadata": {
        "id": "wlQilRW6P6vk"
      },
      "source": [
        "## Models (initial construction)"
      ]
    },
    {
      "cell_type": "code",
      "execution_count": null,
      "metadata": {
        "id": "l9zlrLsu1G8L"
      },
      "outputs": [],
      "source": [
        "class MyModel(tf.keras.Model):\n",
        "\n",
        "  def __init__(self, demographic_dim = 10): #demographic dim is the dim of all inputs that arent pic\n",
        "    super().__init__()\n",
        "    self.picinput = Input(shape=(256,256,128))\n",
        "    self.conv1 = Conv2D(filters=128, \n",
        "                        kernel_size=3, \n",
        "                        strides=(2, 2), \n",
        "                        activation='relu',\n",
        "                        kernel_initializer=HeNormal,\n",
        "                        data_format=\"channels_last\")(self.picinput)\n",
        "    self.conv2 = Conv2D(filters=64, \n",
        "                        kernel_size=3, \n",
        "                        strides=(2, 2), \n",
        "                        activation='relu')(self.conv1)\n",
        "    self.maxpool1 = MaxPooling2D(pool_size=(2, 2), strides=None, padding='valid')(self.conv2)\n",
        "    self.picflat = Flatten()(self.maxpool1)\n",
        "\n",
        "    self.otherinput = Input(shape=(demographic_dim,))\n",
        "    self.combinedinput = tf.keras.layers.concatenate([self.picflat,self.otherinput])\n",
        "    self.dense1 = tf.keras.layers.Dense(4, activation=tf.nn.relu)(self.combinedinput)\n",
        "    self.dense2 = tf.keras.layers.Dense(1, activation=tf.nn.sigmoid)(self.dense1)\n",
        "\n",
        "    self.model = Model(inputs=[self.picinput,self.otherinput],outputs=self.dense2)\n",
        "\n",
        "  def call(self, inputs):\n",
        "    # x = self.model(inputs)\n",
        "    return self.model(inputs)\n",
        "\n",
        "model = MyModel()\n"
      ]
    },
    {
      "cell_type": "code",
      "execution_count": null,
      "metadata": {
        "colab": {
          "base_uri": "https://localhost:8080/"
        },
        "id": "cVxISIcV3B4h",
        "outputId": "7723d253-5308-4d4a-998f-38525869d55d"
      },
      "outputs": [
        {
          "name": "stdout",
          "output_type": "stream",
          "text": [
            "(10, 256, 256, 128)\n",
            "(10, 10)\n"
          ]
        }
      ],
      "source": [
        "#example with input:\n",
        "img1 = tf.squeeze(tr['images'][0:10])\n",
        "dem1 = tf.squeeze(tf.expand_dims(np.random.random((10,10)), axis=0))\n",
        "print(np.shape(img1))\n",
        "print(np.shape(dem1))"
      ]
    },
    {
      "cell_type": "code",
      "execution_count": null,
      "metadata": {
        "id": "KgOtfqgl3rcg"
      },
      "outputs": [],
      "source": [
        "pred = model.model([img1,dem1]) #in this way, the pics and images need to be separate tensors so we can do convolutional only on image"
      ]
    },
    {
      "cell_type": "code",
      "execution_count": null,
      "metadata": {
        "colab": {
          "base_uri": "https://localhost:8080/"
        },
        "id": "kx72woc73wzi",
        "outputId": "c38cfdef-64cf-4eeb-ad07-e6cafe94eb78"
      },
      "outputs": [
        {
          "data": {
            "text/plain": [
              "TensorShape([10, 1])"
            ]
          },
          "execution_count": 60,
          "metadata": {},
          "output_type": "execute_result"
        }
      ],
      "source": [
        "np.shape(pred) #it works!"
      ]
    },
    {
      "cell_type": "code",
      "execution_count": null,
      "metadata": {
        "id": "pXeTWQwA5N99"
      },
      "outputs": [],
      "source": [
        "model.compile(loss=tf.keras.losses.BinaryCrossentropy(from_logits=False),\n",
        "               optimizer=tf.keras.optimizers.Adam(learning_rate=0.001),\n",
        "               metrics=['accuracy'])"
      ]
    },
    {
      "cell_type": "code",
      "execution_count": null,
      "metadata": {
        "colab": {
          "base_uri": "https://localhost:8080/"
        },
        "id": "_42JFlOM5RR5",
        "outputId": "56448430-5d52-4d59-df2e-92fbe53cea80"
      },
      "outputs": [
        {
          "name": "stdout",
          "output_type": "stream",
          "text": [
            "Epoch 1/5\n",
            "1/1 [==============================] - 1s 1s/step - loss: 3.9038 - accuracy: 0.8000\n",
            "Epoch 2/5\n",
            "1/1 [==============================] - 0s 162ms/step - loss: 0.0000e+00 - accuracy: 1.0000\n",
            "Epoch 3/5\n",
            "1/1 [==============================] - 0s 195ms/step - loss: 0.0000e+00 - accuracy: 1.0000\n",
            "Epoch 4/5\n",
            "1/1 [==============================] - 0s 193ms/step - loss: 0.0000e+00 - accuracy: 1.0000\n",
            "Epoch 5/5\n",
            "1/1 [==============================] - 0s 146ms/step - loss: 0.0000e+00 - accuracy: 1.0000\n"
          ]
        },
        {
          "data": {
            "text/plain": [
              "<keras.callbacks.History at 0x7fabca68f460>"
            ]
          },
          "execution_count": 84,
          "metadata": {},
          "output_type": "execute_result"
        }
      ],
      "source": [
        "model.fit([img1,dem1],np.ones(10),epochs=5)"
      ]
    },
    {
      "cell_type": "code",
      "execution_count": null,
      "metadata": {
        "colab": {
          "base_uri": "https://localhost:8080/"
        },
        "id": "Ske0sXHb6Uc9",
        "outputId": "e0740982-52a1-4a47-a142-3bd421d1f5c1"
      },
      "outputs": [
        {
          "data": {
            "text/plain": [
              "<tf.Tensor: shape=(10, 1), dtype=float32, numpy=\n",
              "array([[1.],\n",
              "       [1.],\n",
              "       [1.],\n",
              "       [1.],\n",
              "       [1.],\n",
              "       [1.],\n",
              "       [1.],\n",
              "       [1.],\n",
              "       [1.],\n",
              "       [1.]], dtype=float32)>"
            ]
          },
          "execution_count": 85,
          "metadata": {},
          "output_type": "execute_result"
        }
      ],
      "source": [
        "pred = model.model([img1,dem1])\n",
        "pred"
      ]
    },
    {
      "cell_type": "code",
      "execution_count": null,
      "metadata": {
        "colab": {
          "base_uri": "https://localhost:8080/",
          "height": 298
        },
        "id": "UC0lSR7LcJJe",
        "outputId": "8fec53c5-c8a8-46fe-95c8-1faf2becbb4a"
      },
      "outputs": [
        {
          "data": {
            "text/plain": [
              "<matplotlib.legend.Legend at 0x7fabca5bc940>"
            ]
          },
          "execution_count": 87,
          "metadata": {},
          "output_type": "execute_result"
        },
        {
          "data": {
            "image/png": "[encoded data removed]",
            "text/plain": [
              "<Figure size 432x288 with 1 Axes>"
            ]
          },
          "metadata": {},
          "output_type": "display_data"
        }
      ],
      "source": [
        "conv_acc = model.history.history['accuracy']\n",
        "conv_err = model.history.history['loss']\n",
        "# model4_trainacc = model4_hist.history['accuracy']\n",
        "# np.save(\"model2_acc\",model2_acc)\n",
        "# model2_acc = np.load(\"model2_acc.npy\")\n",
        "plt.figure()\n",
        "plt.title(\"Training Accuracy\")\n",
        "plt.plot(conv_acc,label='acc')\n",
        "# plt.plot(model4_trainacc,label='Transfer Learning')\n",
        "plt.legend()"
      ]
    },
    {
      "cell_type": "code",
      "execution_count": null,
      "metadata": {
        "colab": {
          "base_uri": "https://localhost:8080/",
          "height": 298
        },
        "id": "rHr1Ib2LcqBn",
        "outputId": "803c8bb0-691d-4b12-ef49-415edaab0430"
      },
      "outputs": [
        {
          "data": {
            "text/plain": [
              "<matplotlib.legend.Legend at 0x7fabe049d370>"
            ]
          },
          "execution_count": 88,
          "metadata": {},
          "output_type": "execute_result"
        },
        {
          "data": {
            "image/png": "[encoded data removed]",
            "text/plain": [
              "<Figure size 432x288 with 1 Axes>"
            ]
          },
          "metadata": {},
          "output_type": "display_data"
        }
      ],
      "source": [
        "plt.figure()\n",
        "plt.title(\"Training loss\")\n",
        "plt.plot(conv_err,label='loss')\n",
        "plt.legend()"
      ]
    },
    {
      "cell_type": "markdown",
      "metadata": {
        "id": "Wl54Rsnkfyqy"
      },
      "source": [
        "## More modeling\n",
        "\n",
        "Things to note:\n",
        "\n",
        "- Training/test split -- we need to think through splitting by PATIENT vs randomly splitting MRI recordings since two MRI recordings from the same patient are technically *not* independent\n",
        "\n",
        "- Sample size\n",
        "\n",
        "- Use/intake/imputation of demographic data"
      ]
    },
    {
      "cell_type": "code",
      "execution_count": 5,
      "metadata": {
        "id": "_IgNSMzRqk-Z"
      },
      "outputs": [],
      "source": [
        "demographic_dim = 8\n",
        "picinput = Input(shape=(256,256,128), name = 'Image_Input')\n",
        "conv1 = Conv2D(filters=128, \n",
        "                    kernel_size=3, \n",
        "                    strides=(2, 2), \n",
        "                    activation='relu',\n",
        "                    kernel_initializer=HeNormal,\n",
        "                    data_format=\"channels_last\", name = 'Conv2D_1')(picinput)\n",
        "conv2 = Conv2D(filters=64, \n",
        "                    kernel_size=3, \n",
        "                    strides=(2, 2), \n",
        "                    activation='relu', name = 'Conv2D_2')(conv1)\n",
        "maxpool1 = MaxPooling2D(pool_size=(2, 2), strides=None, padding='valid', name = 'MaxPool2D_1')(conv2)\n",
        "picflat = Flatten(name = 'FlattenImage')(maxpool1)\n",
        "\n",
        "otherinput = Input(shape=(demographic_dim,), name = 'Demographics_Input')\n",
        "combinedinput = tf.keras.layers.concatenate([picflat,otherinput], name = 'Combine_Img_Demographics')\n",
        "dense1 = Dense(4, activation='relu', name = 'Dense1')(combinedinput)\n",
        "dense2 = Dense(1, activation='sigmoid', name = 'Dense2')(dense1)\n",
        "\n",
        "model = Model(inputs=[picinput,otherinput],outputs=dense2)"
      ]
    },
    {
      "cell_type": "code",
      "execution_count": 6,
      "metadata": {
        "colab": {
          "base_uri": "https://localhost:8080/",
          "height": 865
        },
        "id": "1MkPXgRhq3oc",
        "outputId": "913dff24-e13c-49b2-a3c8-e535bd9e896d"
      },
      "outputs": [
        {
          "output_type": "execute_result",
          "data": {
            "image/png": "[encoded data removed]",
            "text/plain": [
              "<IPython.core.display.Image object>"
            ]
          },
          "metadata": {},
          "execution_count": 6
        }
      ],
      "source": [
        "plot_model(model, show_shapes=True, show_layer_names=True)"
      ]
    },
    {
      "cell_type": "code",
      "source": [
        "model.compile(loss=tf.keras.losses.BinaryCrossentropy(from_logits=False),\n",
        "               optimizer=tf.keras.optimizers.Adam(learning_rate=0.001),\n",
        "               metrics=['accuracy'])"
      ],
      "metadata": {
        "id": "OGppCAHnWD_b"
      },
      "execution_count": 9,
      "outputs": []
    },
    {
      "cell_type": "code",
      "execution_count": null,
      "metadata": {
        "id": "-quel3LL0HIB"
      },
      "outputs": [],
      "source": [
        "history = model.fit([train_x1, train_x2], train_y, epochs = 75, validation_data = ([test_x1, test_x2], test_y))"
      ]
    },
    {
      "cell_type": "code",
      "source": [
        "model.evaluate([c_x1, c_x2], c_y)"
      ],
      "metadata": {
        "id": "ztYo4iLY4Peh"
      },
      "execution_count": null,
      "outputs": []
    },
    {
      "cell_type": "markdown",
      "source": [
        "### Model 2"
      ],
      "metadata": {
        "id": "ePzecp8U9gpz"
      }
    },
    {
      "cell_type": "code",
      "source": [
        "picinput = Input(shape=(256,256,128), name = 'Image_Input')\n",
        "conv1 = Conv2D(filters=128, \n",
        "                    kernel_size=3, \n",
        "                    strides=(2, 2), \n",
        "                    activation='relu',\n",
        "                    kernel_initializer=HeNormal,\n",
        "                    data_format=\"channels_last\", name = 'Conv2D_1')(picinput)\n",
        "conv2 = Conv2D(filters=64, \n",
        "                    kernel_size=3, \n",
        "                    strides=(2, 2), \n",
        "                    activation='relu', name = 'Conv2D_2')(conv1)\n",
        "maxpool1 = MaxPooling2D(pool_size=(2, 2), strides=None, padding='valid', name = 'MaxPool2D_1')(conv2)\n",
        "picflat = Flatten(name = 'FlattenImage')(maxpool1)\n",
        "\n",
        "# otherinput = Input(shape=(demographic_dim,), name = 'Demographics_Input')\n",
        "# combinedinput = tf.keras.layers.concatenate([picflat,otherinput], name = 'Combine_Img_Demographics')\n",
        "dense1 = tf.keras.layers.Dense(4, activation='relu', name = 'Dense1')(picflat)\n",
        "dense2 = tf.keras.layers.Dense(1, activation='sigmoid', name = 'Dense2')(dense1)\n",
        "\n",
        "model2 = Model(inputs=[picinput,otherinput],outputs=dense2)"
      ],
      "metadata": {
        "id": "rQiCCHMj9ig5"
      },
      "execution_count": 32,
      "outputs": []
    },
    {
      "cell_type": "code",
      "source": [
        "model2.compile(loss=tf.keras.losses.BinaryCrossentropy(from_logits=False),\n",
        "               optimizer=tf.keras.optimizers.Adam(learning_rate=0.001),\n",
        "               metrics=['accuracy'])"
      ],
      "metadata": {
        "id": "HglLpTcEXQA_"
      },
      "execution_count": 33,
      "outputs": []
    },
    {
      "cell_type": "code",
      "source": [
        "model2.fit([train_x1, train_x2], train_y, epochs = 75, validation_data = ([test_x1, test_x2], test_y))"
      ],
      "metadata": {
        "id": "edtIDHsbW2pz"
      },
      "execution_count": null,
      "outputs": []
    },
    {
      "cell_type": "code",
      "source": [
        "model2.evaluate([c_x1, c_x2], c_y)"
      ],
      "metadata": {
        "id": "RMfTFgsi4XBm"
      },
      "execution_count": null,
      "outputs": []
    },
    {
      "cell_type": "markdown",
      "source": [
        "https://iu.zoom.us/j/85818994266"
      ],
      "metadata": {
        "id": "GZlACLQb6EEz"
      }
    }
  ],
  "metadata": {
    "accelerator": "GPU",
    "colab": {
      "collapsed_sections": [
        "l1LdICTd77Lu",
        "FNENUJCTv49d",
        "81qI-Dm5NxAY",
        "dspCQWJbQNwB",
        "98U3Rla-CyVh",
        "wlQilRW6P6vk"
      ],
      "machine_shape": "hm",
      "provenance": []
    },
    "gpuClass": "premium",
    "kernelspec": {
      "display_name": "Python 3",
      "name": "python3"
    },
    "language_info": {
      "name": "python"
    }
  },
  "nbformat": 4,
  "nbformat_minor": 0
}